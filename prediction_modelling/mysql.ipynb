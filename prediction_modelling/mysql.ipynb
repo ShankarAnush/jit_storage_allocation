{
 "cells": [
  {
   "cell_type": "code",
   "execution_count": 44,
   "id": "104500f1",
   "metadata": {},
   "outputs": [],
   "source": [
    "import numpy as np\n",
    "import pandas as pd\n",
    "import seaborn as sns\n",
    "import matplotlib.pyplot as plt\n",
    "from sklearn.linear_model import LinearRegression\n",
    "from sklearn.metrics import mean_squared_error\n",
    "from sklearn.preprocessing import MinMaxScaler"
   ]
  },
  {
   "cell_type": "code",
   "execution_count": 45,
   "id": "3fb0c0fa",
   "metadata": {},
   "outputs": [
    {
     "data": {
      "text/html": [
       "<div>\n",
       "<style scoped>\n",
       "    .dataframe tbody tr th:only-of-type {\n",
       "        vertical-align: middle;\n",
       "    }\n",
       "\n",
       "    .dataframe tbody tr th {\n",
       "        vertical-align: top;\n",
       "    }\n",
       "\n",
       "    .dataframe thead th {\n",
       "        text-align: right;\n",
       "    }\n",
       "</style>\n",
       "<table border=\"1\" class=\"dataframe\">\n",
       "  <thead>\n",
       "    <tr style=\"text-align: right;\">\n",
       "      <th></th>\n",
       "      <th>Reference_time</th>\n",
       "      <th>Disk_Usage</th>\n",
       "    </tr>\n",
       "  </thead>\n",
       "  <tbody>\n",
       "    <tr>\n",
       "      <th>0</th>\n",
       "      <td>0</td>\n",
       "      <td>199.724</td>\n",
       "    </tr>\n",
       "    <tr>\n",
       "      <th>1</th>\n",
       "      <td>2</td>\n",
       "      <td>199.732</td>\n",
       "    </tr>\n",
       "    <tr>\n",
       "      <th>2</th>\n",
       "      <td>3</td>\n",
       "      <td>199.744</td>\n",
       "    </tr>\n",
       "    <tr>\n",
       "      <th>3</th>\n",
       "      <td>4</td>\n",
       "      <td>199.748</td>\n",
       "    </tr>\n",
       "    <tr>\n",
       "      <th>4</th>\n",
       "      <td>5</td>\n",
       "      <td>199.756</td>\n",
       "    </tr>\n",
       "  </tbody>\n",
       "</table>\n",
       "</div>"
      ],
      "text/plain": [
       "   Reference_time  Disk_Usage\n",
       "0               0     199.724\n",
       "1               2     199.732\n",
       "2               3     199.744\n",
       "3               4     199.748\n",
       "4               5     199.756"
      ]
     },
     "execution_count": 45,
     "metadata": {},
     "output_type": "execute_result"
    }
   ],
   "source": [
    "#df_cass_uncom_new = pd.read_csv(\"results_cassandra_3_uncompressed.csv\")\n",
    "df_mysql = pd.read_csv(\"results_mysql_uncompressed.csv\", usecols = [\"Reference_time\",\"Disk_Usage\"])\n",
    "df_mysql.head()"
   ]
  },
  {
   "cell_type": "code",
   "execution_count": 46,
   "id": "cab424e6",
   "metadata": {},
   "outputs": [],
   "source": [
    "df_mysql.dropna()\n",
    "df_mysql['Reference_time'] = df_mysql['Reference_time'].astype(\"Int64\")\n",
    "df_mysql['Disk_Usage'] = df_mysql['Disk_Usage'].astype(\"float64\")"
   ]
  },
  {
   "cell_type": "code",
   "execution_count": 4,
   "id": "e08c4d07",
   "metadata": {},
   "outputs": [],
   "source": [
    "#df_mysql[\"Reference_time\"] = MinMaxScaler().fit_transform(np.array(df_mysql[\"Reference_time\"]).reshape(-1,1))\n",
    "#scaler = MinMaxScaler()\n",
    "#df_mysql[\"Disk_Usage\"] = scaler.fit_transform(np.array(df_mysql[\"Disk_Usage\"]).reshape(-1,1))"
   ]
  },
  {
   "cell_type": "code",
   "execution_count": 47,
   "id": "7a526da9",
   "metadata": {},
   "outputs": [
    {
     "data": {
      "text/html": [
       "<div>\n",
       "<style scoped>\n",
       "    .dataframe tbody tr th:only-of-type {\n",
       "        vertical-align: middle;\n",
       "    }\n",
       "\n",
       "    .dataframe tbody tr th {\n",
       "        vertical-align: top;\n",
       "    }\n",
       "\n",
       "    .dataframe thead th {\n",
       "        text-align: right;\n",
       "    }\n",
       "</style>\n",
       "<table border=\"1\" class=\"dataframe\">\n",
       "  <thead>\n",
       "    <tr style=\"text-align: right;\">\n",
       "      <th></th>\n",
       "      <th>Reference_time</th>\n",
       "    </tr>\n",
       "  </thead>\n",
       "  <tbody>\n",
       "    <tr>\n",
       "      <th>0</th>\n",
       "      <td>0</td>\n",
       "    </tr>\n",
       "    <tr>\n",
       "      <th>1</th>\n",
       "      <td>2</td>\n",
       "    </tr>\n",
       "    <tr>\n",
       "      <th>2</th>\n",
       "      <td>3</td>\n",
       "    </tr>\n",
       "    <tr>\n",
       "      <th>3</th>\n",
       "      <td>4</td>\n",
       "    </tr>\n",
       "    <tr>\n",
       "      <th>4</th>\n",
       "      <td>5</td>\n",
       "    </tr>\n",
       "    <tr>\n",
       "      <th>...</th>\n",
       "      <td>...</td>\n",
       "    </tr>\n",
       "    <tr>\n",
       "      <th>21801</th>\n",
       "      <td>25397</td>\n",
       "    </tr>\n",
       "    <tr>\n",
       "      <th>21802</th>\n",
       "      <td>25398</td>\n",
       "    </tr>\n",
       "    <tr>\n",
       "      <th>21803</th>\n",
       "      <td>25400</td>\n",
       "    </tr>\n",
       "    <tr>\n",
       "      <th>21804</th>\n",
       "      <td>25401</td>\n",
       "    </tr>\n",
       "    <tr>\n",
       "      <th>21805</th>\n",
       "      <td>25402</td>\n",
       "    </tr>\n",
       "  </tbody>\n",
       "</table>\n",
       "<p>21806 rows × 1 columns</p>\n",
       "</div>"
      ],
      "text/plain": [
       "       Reference_time\n",
       "0                   0\n",
       "1                   2\n",
       "2                   3\n",
       "3                   4\n",
       "4                   5\n",
       "...               ...\n",
       "21801           25397\n",
       "21802           25398\n",
       "21803           25400\n",
       "21804           25401\n",
       "21805           25402\n",
       "\n",
       "[21806 rows x 1 columns]"
      ]
     },
     "execution_count": 47,
     "metadata": {},
     "output_type": "execute_result"
    }
   ],
   "source": [
    "X = df_mysql[['Reference_time']]\n",
    "Y = df_mysql['Disk_Usage']\n",
    "X"
   ]
  },
  {
   "cell_type": "code",
   "execution_count": 48,
   "id": "e03b7226",
   "metadata": {},
   "outputs": [],
   "source": [
    "regressor_mysql_uncomp = LinearRegression()"
   ]
  },
  {
   "cell_type": "code",
   "execution_count": 49,
   "id": "154f4f16",
   "metadata": {},
   "outputs": [
    {
     "data": {
      "text/plain": [
       "LinearRegression()"
      ]
     },
     "execution_count": 49,
     "metadata": {},
     "output_type": "execute_result"
    }
   ],
   "source": [
    "regressor_mysql_uncomp.fit(X, Y)"
   ]
  },
  {
   "cell_type": "code",
   "execution_count": 50,
   "id": "7d7559d1",
   "metadata": {},
   "outputs": [],
   "source": [
    "mysql_uncomp_pred = regressor_mysql_uncomp.predict(X)"
   ]
  },
  {
   "cell_type": "code",
   "execution_count": 51,
   "id": "efc2b937",
   "metadata": {},
   "outputs": [],
   "source": [
    "#mysql_uncomp_pred_ = scaler.inverse_transform([mysql_uncomp_pred])"
   ]
  },
  {
   "cell_type": "code",
   "execution_count": 52,
   "id": "e68f56fd",
   "metadata": {},
   "outputs": [
    {
     "data": {
      "text/plain": [
       "0.9997951107867391"
      ]
     },
     "execution_count": 52,
     "metadata": {},
     "output_type": "execute_result"
    }
   ],
   "source": [
    "regressor_mysql_uncomp.score(X,Y)"
   ]
  },
  {
   "cell_type": "code",
   "execution_count": 53,
   "id": "108f37fe",
   "metadata": {},
   "outputs": [
    {
     "name": "stdout",
     "output_type": "stream",
     "text": [
      "Mean Absolute Error: 0.3994887663111782\n",
      "Mean Squared Error: 0.4265251593938665\n",
      "Root Mean Squared Error: 0.6530889368178475\n"
     ]
    }
   ],
   "source": [
    "from sklearn import metrics\n",
    "print('Mean Absolute Error:', metrics.mean_absolute_error(Y, mysql_uncomp_pred))\n",
    "print('Mean Squared Error:', metrics.mean_squared_error(Y, mysql_uncomp_pred))\n",
    "print('Root Mean Squared Error:', np.sqrt(metrics.mean_squared_error(Y, mysql_uncomp_pred)))"
   ]
  },
  {
   "cell_type": "code",
   "execution_count": 69,
   "id": "0ef1384f",
   "metadata": {},
   "outputs": [
    {
     "data": {
      "image/png": "[encoded data removed]",
      "text/plain": [
       "<Figure size 1080x720 with 1 Axes>"
      ]
     },
     "metadata": {},
     "output_type": "display_data"
    }
   ],
   "source": [
    "fig3 = plt.figure(figsize=(15, 10))\n",
    "ax = fig3.add_subplot(1, 1, 1)\n",
    "sns.set(font_scale = 1.5)\n",
    "sns.set_style(\"whitegrid\", {'axes.grid' : False})\n",
    "\n",
    "ax = sns.lineplot(data=df_mysql, x=\"Reference_time\", y=\"Disk_Usage\",color=\"orange\")\n",
    "#plt.plot(df_mysql, color = \"orange\", linestyle = \"--\")\n",
    "ax.plot(X, mysql_uncomp_pred, color = \"green\", linestyle=\"--\")\n",
    "ax.set(xlabel='Time [s]', ylabel='Disk Usage [MB]')\n",
    "#yticks = [200, 220, 240, 260, 280, 300, 320, 340, 360]\n",
    "#ax.set_yticks(yticks)\n",
    "#ax.set_yticklabels([\"$%.1f$\" % y for y in yticks], fontsize=18)\n",
    "plt.legend([\"Linear Regression\", \"Raw Data\"], loc = \"upper left\")\n",
    "#plt.title(\"Linear regression on MySQL\", pad =  20)\n",
    "plt.savefig(r\"C:\\Users\\anush\\reinfl\\reinfl_environment\\plots_prediction_models\\mysql_prediction_model.png\", dpi = 300)\n",
    "plt.savefig(r\"C:\\Users\\anush\\reinfl\\reinfl_environment\\plots_prediction_models\\mysql_prediction_model.pdf\", dpi = 300)"
   ]
  },
  {
   "cell_type": "code",
   "execution_count": 66,
   "id": "a3aeb5c3",
   "metadata": {},
   "outputs": [],
   "source": [
    "import pickle\n",
    "filename = 'sql_model.sav'\n",
    "pickle.dump(regressor_mysql_uncomp, open(filename, 'wb'))"
   ]
  },
  {
   "cell_type": "code",
   "execution_count": 18,
   "id": "47d3d143",
   "metadata": {},
   "outputs": [],
   "source": [
    "loaded_model = pickle.load(open(filename, 'rb'))"
   ]
  },
  {
   "cell_type": "code",
   "execution_count": 19,
   "id": "c6a27700",
   "metadata": {},
   "outputs": [
    {
     "name": "stderr",
     "output_type": "stream",
     "text": [
      "C:\\Users\\anush\\reinfl\\lib\\site-packages\\sklearn\\base.py:441: UserWarning: X does not have valid feature names, but LinearRegression was fitted with feature names\n",
      "  warnings.warn(\n"
     ]
    },
    {
     "data": {
      "text/plain": [
       "array([328150.66907656])"
      ]
     },
     "execution_count": 19,
     "metadata": {},
     "output_type": "execute_result"
    }
   ],
   "source": [
    "x = [20000]\n",
    "loaded_model.predict([x])"
   ]
  },
  {
   "cell_type": "code",
   "execution_count": null,
   "id": "69d68997",
   "metadata": {},
   "outputs": [],
   "source": []
  }
 ],
 "metadata": {
  "kernelspec": {
   "display_name": "Python 3 (ipykernel)",
   "language": "python",
   "name": "python3"
  },
  "language_info": {
   "codemirror_mode": {
    "name": "ipython",
    "version": 3
   },
   "file_extension": ".py",
   "mimetype": "text/x-python",
   "name": "python",
   "nbconvert_exporter": "python",
   "pygments_lexer": "ipython3",
   "version": "3.9.2"
  }
 },
 "nbformat": 4,
 "nbformat_minor": 5
}
