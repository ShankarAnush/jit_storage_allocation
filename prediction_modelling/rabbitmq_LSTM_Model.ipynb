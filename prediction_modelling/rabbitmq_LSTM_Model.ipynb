{
 "cells": [
  {
   "cell_type": "code",
   "execution_count": 1,
   "id": "af3becc2",
   "metadata": {},
   "outputs": [
    {
     "data": {
      "image/png": "[encoded data removed]",
      "text/plain": [
       "<Figure size 432x288 with 1 Axes>"
      ]
     },
     "metadata": {
      "needs_background": "light"
     },
     "output_type": "display_data"
    }
   ],
   "source": [
    "import pandas\n",
    "import matplotlib.pyplot as plt\n",
    "usecol = [\"Disk_Usage\", \"Ref_Time\"]\n",
    "dataset = pandas.read_csv('rabbitmq_uncompressed_ip_rate_greater.csv', usecols=usecol, engine='python')\n",
    "dataset = dataset.set_index(\"Ref_Time\")\n",
    "#dataset.head(7)\n",
    "plt.plot(dataset)\n",
    "plt.show()"
   ]
  },
  {
   "cell_type": "code",
   "execution_count": 2,
   "id": "2fab9a22",
   "metadata": {},
   "outputs": [],
   "source": [
    "import numpy\n",
    "import matplotlib.pyplot as plt\n",
    "import pandas\n",
    "import math\n",
    "from keras.models import Sequential\n",
    "from keras.layers import Dense\n",
    "from keras.layers import LSTM\n",
    "from sklearn.preprocessing import MinMaxScaler\n",
    "from sklearn.metrics import mean_squared_error"
   ]
  },
  {
   "cell_type": "code",
   "execution_count": 3,
   "id": "5fb0e873",
   "metadata": {},
   "outputs": [
    {
     "name": "stdout",
     "output_type": "stream",
     "text": [
      "[[   1208.]\n",
      " [   1208.]\n",
      " [   1510.]\n",
      " ...\n",
      " [1099809.]\n",
      " [1099809.]\n",
      " [1099809.]]\n"
     ]
    }
   ],
   "source": [
    "dataframe = pandas.read_csv('rabbitmq_uncompressed_ip_rate_greater.csv', usecols=[1])\n",
    "dataset = dataframe.values\n",
    "dataset = dataset.astype('float32')\n",
    "print(dataset)"
   ]
  },
  {
   "cell_type": "code",
   "execution_count": 4,
   "id": "6745541a",
   "metadata": {},
   "outputs": [],
   "source": [
    "scaler = MinMaxScaler(feature_range=(0, 1))\n",
    "dataset = scaler.fit_transform(dataset)"
   ]
  },
  {
   "cell_type": "code",
   "execution_count": 5,
   "id": "79676161",
   "metadata": {},
   "outputs": [
    {
     "name": "stdout",
     "output_type": "stream",
     "text": [
      "4302 2119\n"
     ]
    }
   ],
   "source": [
    "train_size = int(len(dataset) * 0.67)\n",
    "test_size = len(dataset) - train_size\n",
    "train, test = dataset[0:train_size,:], dataset[train_size:len(dataset),:]\n",
    "print(len(train), len(test))"
   ]
  },
  {
   "cell_type": "code",
   "execution_count": 6,
   "id": "dae0fe97",
   "metadata": {},
   "outputs": [],
   "source": [
    "def create_dataset(dataset, look_back=1):\n",
    "    dataX, dataY = [], []\n",
    "    for i in range(len(dataset)-look_back-1):\n",
    "        a = dataset[i:(i+look_back), 0]\n",
    "        dataX.append(a)\n",
    "        dataY.append(dataset[i + look_back, 0])\n",
    "    return numpy.array(dataX), numpy.array(dataY)"
   ]
  },
  {
   "cell_type": "code",
   "execution_count": 7,
   "id": "04c735f3",
   "metadata": {},
   "outputs": [],
   "source": [
    "look_back = 1\n",
    "trainX, trainY = create_dataset(train, look_back)\n",
    "testX, testY = create_dataset(test, look_back)"
   ]
  },
  {
   "cell_type": "code",
   "execution_count": 8,
   "id": "6fa7597d",
   "metadata": {},
   "outputs": [],
   "source": [
    "trainX = numpy.reshape(trainX, (trainX.shape[0], 1, trainX.shape[1]))\n",
    "testX = numpy.reshape(testX, (testX.shape[0], 1, testX.shape[1]))"
   ]
  },
  {
   "cell_type": "code",
   "execution_count": 9,
   "id": "6381d826",
   "metadata": {},
   "outputs": [
    {
     "data": {
      "text/plain": [
       "array([[[0.0000000e+00]],\n",
       "\n",
       "       [[0.0000000e+00]],\n",
       "\n",
       "       [[2.7489499e-04]],\n",
       "\n",
       "       ...,\n",
       "\n",
       "       [[8.5985631e-01]],\n",
       "\n",
       "       [[8.6013663e-01]],\n",
       "\n",
       "       [[8.6041516e-01]]], dtype=float32)"
      ]
     },
     "execution_count": 9,
     "metadata": {},
     "output_type": "execute_result"
    }
   ],
   "source": [
    "trainX"
   ]
  },
  {
   "cell_type": "code",
   "execution_count": 10,
   "id": "5944735b",
   "metadata": {},
   "outputs": [
    {
     "name": "stdout",
     "output_type": "stream",
     "text": [
      "Epoch 1/100\n",
      "4300/4300 - 5s - loss: 0.0124\n",
      "Epoch 2/100\n",
      "4300/4300 - 4s - loss: 2.8558e-05\n",
      "Epoch 3/100\n",
      "4300/4300 - 5s - loss: 2.3424e-05\n",
      "Epoch 4/100\n",
      "4300/4300 - 4s - loss: 1.8912e-05\n",
      "Epoch 5/100\n",
      "4300/4300 - 4s - loss: 1.6221e-05\n",
      "Epoch 6/100\n",
      "4300/4300 - 4s - loss: 1.3484e-05\n",
      "Epoch 7/100\n",
      "4300/4300 - 4s - loss: 1.1322e-05\n",
      "Epoch 8/100\n",
      "4300/4300 - 4s - loss: 1.0119e-05\n",
      "Epoch 9/100\n",
      "4300/4300 - 4s - loss: 8.8159e-06\n",
      "Epoch 10/100\n",
      "4300/4300 - 4s - loss: 7.7279e-06\n",
      "Epoch 11/100\n",
      "4300/4300 - 4s - loss: 6.4615e-06\n",
      "Epoch 12/100\n",
      "4300/4300 - 4s - loss: 5.5561e-06\n",
      "Epoch 13/100\n",
      "4300/4300 - 4s - loss: 4.4079e-06\n",
      "Epoch 14/100\n",
      "4300/4300 - 4s - loss: 3.5066e-06\n",
      "Epoch 15/100\n",
      "4300/4300 - 4s - loss: 2.9377e-06\n",
      "Epoch 16/100\n",
      "4300/4300 - 4s - loss: 1.9249e-06\n",
      "Epoch 17/100\n",
      "4300/4300 - 4s - loss: 1.7758e-06\n",
      "Epoch 18/100\n",
      "4300/4300 - 4s - loss: 1.4453e-06\n",
      "Epoch 19/100\n",
      "4300/4300 - 4s - loss: 9.7504e-07\n",
      "Epoch 20/100\n",
      "4300/4300 - 5s - loss: 8.4122e-07\n",
      "Epoch 21/100\n",
      "4300/4300 - 4s - loss: 7.9224e-07\n",
      "Epoch 22/100\n",
      "4300/4300 - 4s - loss: 8.2976e-07\n",
      "Epoch 23/100\n",
      "4300/4300 - 4s - loss: 7.4055e-07\n",
      "Epoch 24/100\n",
      "4300/4300 - 4s - loss: 8.8646e-07\n",
      "Epoch 25/100\n",
      "4300/4300 - 5s - loss: 1.0827e-06\n",
      "Epoch 26/100\n",
      "4300/4300 - 4s - loss: 9.1185e-07\n",
      "Epoch 27/100\n",
      "4300/4300 - 4s - loss: 6.7367e-07\n",
      "Epoch 28/100\n",
      "4300/4300 - 4s - loss: 8.8092e-07\n",
      "Epoch 29/100\n",
      "4300/4300 - 4s - loss: 1.1301e-06\n",
      "Epoch 30/100\n",
      "4300/4300 - 4s - loss: 6.6282e-07\n",
      "Epoch 31/100\n",
      "4300/4300 - 4s - loss: 8.4940e-07\n",
      "Epoch 32/100\n",
      "4300/4300 - 5s - loss: 7.1103e-07\n",
      "Epoch 33/100\n",
      "4300/4300 - 13s - loss: 7.3143e-07\n",
      "Epoch 34/100\n",
      "4300/4300 - 11s - loss: 5.9801e-07\n",
      "Epoch 35/100\n",
      "4300/4300 - 6s - loss: 7.0164e-07\n",
      "Epoch 36/100\n",
      "4300/4300 - 6s - loss: 8.7693e-07\n",
      "Epoch 37/100\n",
      "4300/4300 - 6s - loss: 8.7565e-07\n",
      "Epoch 38/100\n",
      "4300/4300 - 7s - loss: 5.6001e-07\n",
      "Epoch 39/100\n",
      "4300/4300 - 6s - loss: 6.9497e-07\n",
      "Epoch 40/100\n",
      "4300/4300 - 6s - loss: 8.6238e-07\n",
      "Epoch 41/100\n",
      "4300/4300 - 7s - loss: 9.0745e-07\n",
      "Epoch 42/100\n",
      "4300/4300 - 6s - loss: 6.5545e-07\n",
      "Epoch 43/100\n",
      "4300/4300 - 6s - loss: 9.5990e-07\n",
      "Epoch 44/100\n",
      "4300/4300 - 6s - loss: 8.9618e-07\n",
      "Epoch 45/100\n",
      "4300/4300 - 6s - loss: 7.0553e-07\n",
      "Epoch 46/100\n",
      "4300/4300 - 8s - loss: 7.8803e-07\n",
      "Epoch 47/100\n",
      "4300/4300 - 10s - loss: 8.1573e-07\n",
      "Epoch 48/100\n",
      "4300/4300 - 9s - loss: 8.0934e-07\n",
      "Epoch 49/100\n",
      "4300/4300 - 8s - loss: 8.3028e-07\n",
      "Epoch 50/100\n",
      "4300/4300 - 7s - loss: 7.5328e-07\n",
      "Epoch 51/100\n",
      "4300/4300 - 7s - loss: 7.8837e-07\n",
      "Epoch 52/100\n",
      "4300/4300 - 7s - loss: 8.1242e-07\n",
      "Epoch 53/100\n",
      "4300/4300 - 9s - loss: 7.4599e-07\n",
      "Epoch 54/100\n",
      "4300/4300 - 8s - loss: 6.2947e-07\n",
      "Epoch 55/100\n",
      "4300/4300 - 12s - loss: 7.0661e-07\n",
      "Epoch 56/100\n",
      "4300/4300 - 6s - loss: 9.3579e-07\n",
      "Epoch 57/100\n",
      "4300/4300 - 6s - loss: 8.9772e-07\n",
      "Epoch 58/100\n",
      "4300/4300 - 7s - loss: 6.4056e-07\n",
      "Epoch 59/100\n",
      "4300/4300 - 6s - loss: 1.1068e-06\n",
      "Epoch 60/100\n",
      "4300/4300 - 6s - loss: 6.8240e-07\n",
      "Epoch 61/100\n",
      "4300/4300 - 6s - loss: 8.4058e-07\n",
      "Epoch 62/100\n",
      "4300/4300 - 6s - loss: 5.9961e-07\n",
      "Epoch 63/100\n",
      "4300/4300 - 8s - loss: 7.6550e-07\n",
      "Epoch 64/100\n",
      "4300/4300 - 8s - loss: 8.1983e-07\n",
      "Epoch 65/100\n",
      "4300/4300 - 7s - loss: 5.9221e-07\n",
      "Epoch 66/100\n",
      "4300/4300 - 8s - loss: 7.3289e-07\n",
      "Epoch 67/100\n",
      "4300/4300 - 6s - loss: 7.1411e-07\n",
      "Epoch 68/100\n",
      "4300/4300 - 7s - loss: 8.0542e-07\n",
      "Epoch 69/100\n",
      "4300/4300 - 7s - loss: 7.6600e-07\n",
      "Epoch 70/100\n",
      "4300/4300 - 7s - loss: 6.8653e-07\n",
      "Epoch 71/100\n",
      "4300/4300 - 7s - loss: 6.8950e-07\n",
      "Epoch 72/100\n",
      "4300/4300 - 6s - loss: 1.0578e-06\n",
      "Epoch 73/100\n",
      "4300/4300 - 7s - loss: 7.0949e-07\n",
      "Epoch 74/100\n",
      "4300/4300 - 6s - loss: 6.0882e-07\n",
      "Epoch 75/100\n",
      "4300/4300 - 6s - loss: 7.8530e-07\n",
      "Epoch 76/100\n",
      "4300/4300 - 7s - loss: 7.4633e-07\n",
      "Epoch 77/100\n",
      "4300/4300 - 6s - loss: 6.7935e-07\n",
      "Epoch 78/100\n",
      "4300/4300 - 8s - loss: 6.9836e-07\n",
      "Epoch 79/100\n",
      "4300/4300 - 7s - loss: 8.5624e-07\n",
      "Epoch 80/100\n",
      "4300/4300 - 8s - loss: 7.5222e-07\n",
      "Epoch 81/100\n",
      "4300/4300 - 9s - loss: 7.4931e-07\n",
      "Epoch 82/100\n",
      "4300/4300 - 9s - loss: 7.9793e-07\n",
      "Epoch 83/100\n",
      "4300/4300 - 8s - loss: 5.4594e-07\n",
      "Epoch 84/100\n",
      "4300/4300 - 9s - loss: 7.7318e-07\n",
      "Epoch 85/100\n",
      "4300/4300 - 12s - loss: 8.2225e-07\n",
      "Epoch 86/100\n",
      "4300/4300 - 16s - loss: 5.7752e-07\n",
      "Epoch 87/100\n",
      "4300/4300 - 9s - loss: 7.5413e-07\n",
      "Epoch 88/100\n",
      "4300/4300 - 9s - loss: 5.8513e-07\n",
      "Epoch 89/100\n",
      "4300/4300 - 6s - loss: 7.7941e-07\n",
      "Epoch 90/100\n",
      "4300/4300 - 6s - loss: 6.7369e-07\n",
      "Epoch 91/100\n",
      "4300/4300 - 7s - loss: 6.7362e-07\n",
      "Epoch 92/100\n",
      "4300/4300 - 8s - loss: 7.1623e-07\n",
      "Epoch 93/100\n",
      "4300/4300 - 6s - loss: 7.6875e-07\n",
      "Epoch 94/100\n",
      "4300/4300 - 6s - loss: 8.2425e-07\n",
      "Epoch 95/100\n",
      "4300/4300 - 6s - loss: 6.1184e-07\n",
      "Epoch 96/100\n",
      "4300/4300 - 6s - loss: 7.4260e-07\n",
      "Epoch 97/100\n",
      "4300/4300 - 6s - loss: 6.7659e-07\n",
      "Epoch 98/100\n",
      "4300/4300 - 6s - loss: 7.3791e-07\n",
      "Epoch 99/100\n",
      "4300/4300 - 6s - loss: 6.2503e-07\n",
      "Epoch 100/100\n",
      "4300/4300 - 6s - loss: 5.9046e-07\n"
     ]
    },
    {
     "data": {
      "text/plain": [
       "<keras.callbacks.History at 0x2c9d2e08d60>"
      ]
     },
     "execution_count": 10,
     "metadata": {},
     "output_type": "execute_result"
    }
   ],
   "source": [
    "model = Sequential()\n",
    "model.add(LSTM(4, input_shape=(1, look_back)))\n",
    "model.add(Dense(1))\n",
    "model.compile(loss='mean_squared_error', optimizer='adam')\n",
    "model.fit(trainX, trainY, epochs=100, batch_size=1, verbose=2)"
   ]
  },
  {
   "cell_type": "code",
   "execution_count": 11,
   "id": "0f7ae814",
   "metadata": {},
   "outputs": [],
   "source": [
    "trainPredict = model.predict(trainX)\n",
    "testPredict = model.predict(testX)"
   ]
  },
  {
   "cell_type": "code",
   "execution_count": 12,
   "id": "c52ff783",
   "metadata": {},
   "outputs": [
    {
     "data": {
      "text/plain": [
       "array([[[0.0000000e+00]],\n",
       "\n",
       "       [[0.0000000e+00]],\n",
       "\n",
       "       [[2.7489499e-04]],\n",
       "\n",
       "       ...,\n",
       "\n",
       "       [[8.5985631e-01]],\n",
       "\n",
       "       [[8.6013663e-01]],\n",
       "\n",
       "       [[8.6041516e-01]]], dtype=float32)"
      ]
     },
     "execution_count": 12,
     "metadata": {},
     "output_type": "execute_result"
    }
   ],
   "source": [
    "trainX"
   ]
  },
  {
   "cell_type": "code",
   "execution_count": 13,
   "id": "04c33dd9",
   "metadata": {},
   "outputs": [],
   "source": [
    "trainPredict = scaler.inverse_transform(trainPredict)\n",
    "trainY = scaler.inverse_transform([trainY])\n",
    "testPredict = scaler.inverse_transform(testPredict)\n",
    "testY = scaler.inverse_transform([testY])"
   ]
  },
  {
   "cell_type": "code",
   "execution_count": 14,
   "id": "51fb32b7",
   "metadata": {},
   "outputs": [
    {
     "name": "stdout",
     "output_type": "stream",
     "text": [
      "Train Score: 540.77 RMSE\n",
      "Test Score: 2077.23 RMSE\n"
     ]
    }
   ],
   "source": [
    "trainScore = math.sqrt(mean_squared_error(trainY[0], trainPredict[:,0]))\n",
    "print('Train Score: %.2f RMSE' % (trainScore))\n",
    "testScore = math.sqrt(mean_squared_error(testY[0], testPredict[:,0]))\n",
    "print('Test Score: %.2f RMSE' % (testScore))"
   ]
  },
  {
   "cell_type": "code",
   "execution_count": 15,
   "id": "5684eb8e",
   "metadata": {},
   "outputs": [],
   "source": [
    "trainPredictPlot = numpy.empty_like(dataset)\n",
    "trainPredictPlot[:, :] = numpy.nan\n",
    "trainPredictPlot[look_back:len(trainPredict)+look_back, :] = trainPredict"
   ]
  },
  {
   "cell_type": "code",
   "execution_count": 16,
   "id": "370d76c8",
   "metadata": {},
   "outputs": [],
   "source": [
    "testPredictPlot = numpy.empty_like(dataset)\n",
    "testPredictPlot[:, :] = numpy.nan\n",
    "testPredictPlot[len(trainPredict)+(look_back*2)+1:len(dataset)-1, :] = testPredict"
   ]
  },
  {
   "cell_type": "code",
   "execution_count": 17,
   "id": "f1035673",
   "metadata": {},
   "outputs": [
    {
     "data": {
      "text/plain": [
       "array([[      nan],\n",
       "       [      nan],\n",
       "       [      nan],\n",
       "       ...,\n",
       "       [1097543.5],\n",
       "       [1097543.5],\n",
       "       [      nan]], dtype=float32)"
      ]
     },
     "execution_count": 17,
     "metadata": {},
     "output_type": "execute_result"
    }
   ],
   "source": [
    "testPredictPlot"
   ]
  },
  {
   "cell_type": "code",
   "execution_count": 18,
   "id": "e9304186",
   "metadata": {},
   "outputs": [
    {
     "data": {
      "text/plain": [
       "[<matplotlib.lines.Line2D at 0x2c9d7264d60>]"
      ]
     },
     "execution_count": 18,
     "metadata": {},
     "output_type": "execute_result"
    },
    {
     "data": {
      "image/png": "[encoded data removed]",
      "text/plain": [
       "<Figure size 432x288 with 1 Axes>"
      ]
     },
     "metadata": {
      "needs_background": "light"
     },
     "output_type": "display_data"
    }
   ],
   "source": [
    "plt.plot(scaler.inverse_transform(dataset))\n",
    "# plt.plot(trainPredictPlot)\n",
    "# plt.plot(testPredictPlot)\n",
    "# plt.show()"
   ]
  },
  {
   "cell_type": "code",
   "execution_count": 42,
   "id": "781ee476",
   "metadata": {},
   "outputs": [
    {
     "data": {
      "image/png": "[encoded data removed]",
      "text/plain": [
       "<Figure size 720x576 with 1 Axes>"
      ]
     },
     "metadata": {},
     "output_type": "display_data"
    }
   ],
   "source": [
    "import seaborn as sns\n",
    "fig3 = plt.figure(figsize=(10, 8))\n",
    "ax = fig3.add_subplot(1, 1, 1)\n",
    "sns.set(font_scale = 1.5)\n",
    "sns.set_style(\"whitegrid\", {'axes.grid' : False})\n",
    "\n",
    "plt.plot(scaler.inverse_transform(dataset),color = \"green\", linewidth = 2)\n",
    "plt.plot(trainPredictPlot, color = \"orange\", linestyle = \"--\")\n",
    "plt.plot(testPredictPlot, color = \"crimson\", linestyle = \"--\")\n",
    "#plt.title(\"RabbitMQ Model\")\n",
    "plt.legend([\"Original data\", \"Train data\", \"Test data\"])\n",
    "plt.ylabel(\"Disk Usage [MB]\")\n",
    "plt.xlabel(\"Time [s]\")\n",
    "\n",
    "plt.savefig(r\"C:\\Users\\anush\\reinfl\\reinfl_environment\\plots_prediction_models\\rabbitmq_lstm_model.png\", dpi = 300)\n",
    "plt.savefig(r\"C:\\Users\\anush\\reinfl\\reinfl_environment\\plots_prediction_models\\rabbitmq_lstm_model.pdf\", dpi = 300)\n",
    "plt.show()"
   ]
  },
  {
   "cell_type": "code",
   "execution_count": 32,
   "id": "b4821748",
   "metadata": {},
   "outputs": [
    {
     "data": {
      "text/plain": [
       "array([[0.85928446],\n",
       "       [0.85956347],\n",
       "       [0.85984063]], dtype=float32)"
      ]
     },
     "execution_count": 32,
     "metadata": {},
     "output_type": "execute_result"
    }
   ],
   "source": [
    "x = [[[8.5985631e-01]],\n",
    "\n",
    "       [[8.6013663e-01]],\n",
    "\n",
    "       [[8.6041516e-01]]]\n",
    "model.predict(x)"
   ]
  },
  {
   "cell_type": "code",
   "execution_count": 25,
   "id": "647a1e30",
   "metadata": {},
   "outputs": [
    {
     "name": "stdout",
     "output_type": "stream",
     "text": [
      "Saved model to disk\n"
     ]
    }
   ],
   "source": [
    "model.save(\"RabbitMQ_model.h5\")\n",
    "print(\"Saved model to disk\")"
   ]
  },
  {
   "cell_type": "code",
   "execution_count": null,
   "id": "1dd72919",
   "metadata": {},
   "outputs": [],
   "source": []
  }
 ],
 "metadata": {
  "kernelspec": {
   "display_name": "Python 3 (ipykernel)",
   "language": "python",
   "name": "python3"
  },
  "language_info": {
   "codemirror_mode": {
    "name": "ipython",
    "version": 3
   },
   "file_extension": ".py",
   "mimetype": "text/x-python",
   "name": "python",
   "nbconvert_exporter": "python",
   "pygments_lexer": "ipython3",
   "version": "3.9.2"
  }
 },
 "nbformat": 4,
 "nbformat_minor": 5
}
