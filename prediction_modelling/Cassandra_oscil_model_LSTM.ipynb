{
 "cells": [
  {
   "cell_type": "code",
   "execution_count": 2,
   "id": "af3becc2",
   "metadata": {},
   "outputs": [
    {
     "data": {
      "image/png": "[encoded data removed]",
      "text/plain": [
       "<Figure size 432x288 with 1 Axes>"
      ]
     },
     "metadata": {
      "needs_background": "light"
     },
     "output_type": "display_data"
    }
   ],
   "source": [
    "import pandas\n",
    "import matplotlib.pyplot as plt\n",
    "usecol = [\"Disk_Usage_MB\", \"Ref_Date_Time\"]\n",
    "dataset = pandas.read_csv('cassandra_zstd_compressd.csv', usecols=usecol, engine='python')\n",
    "dataset = dataset.set_index(\"Ref_Date_Time\")\n",
    "#dataset.head(7)\n",
    "plt.plot(dataset)\n",
    "plt.show()"
   ]
  },
  {
   "cell_type": "code",
   "execution_count": 3,
   "id": "2fab9a22",
   "metadata": {},
   "outputs": [],
   "source": [
    "import numpy\n",
    "import matplotlib.pyplot as plt\n",
    "import pandas\n",
    "import math\n",
    "from keras.models import Sequential\n",
    "from keras.layers import Dense\n",
    "from keras.layers import LSTM\n",
    "from sklearn.preprocessing import MinMaxScaler\n",
    "from sklearn.metrics import mean_squared_error"
   ]
  },
  {
   "cell_type": "code",
   "execution_count": 4,
   "id": "5fb0e873",
   "metadata": {},
   "outputs": [
    {
     "name": "stdout",
     "output_type": "stream",
     "text": [
      "[[ 21.896]\n",
      " [ 21.9  ]\n",
      " [ 21.904]\n",
      " ...\n",
      " [112.108]\n",
      " [112.108]\n",
      " [112.112]]\n"
     ]
    }
   ],
   "source": [
    "dataframe = pandas.read_csv('cassandra_zstd_compressd.csv', usecols=[6])\n",
    "dataset = dataframe.values\n",
    "dataset = dataset.astype('float32')\n",
    "print(dataset)"
   ]
  },
  {
   "cell_type": "code",
   "execution_count": 5,
   "id": "6745541a",
   "metadata": {},
   "outputs": [],
   "source": [
    "scaler = MinMaxScaler(feature_range=(0, 1))\n",
    "dataset = scaler.fit_transform(dataset)"
   ]
  },
  {
   "cell_type": "code",
   "execution_count": 6,
   "id": "79676161",
   "metadata": {},
   "outputs": [
    {
     "name": "stdout",
     "output_type": "stream",
     "text": [
      "19697 9702\n"
     ]
    }
   ],
   "source": [
    "train_size = int(len(dataset) * 0.67)\n",
    "test_size = len(dataset) - train_size\n",
    "train, test = dataset[0:train_size,:], dataset[train_size:len(dataset),:]\n",
    "print(len(train), len(test))"
   ]
  },
  {
   "cell_type": "code",
   "execution_count": 7,
   "id": "dae0fe97",
   "metadata": {},
   "outputs": [],
   "source": [
    "def create_dataset(dataset, look_back=1):\n",
    "    dataX, dataY = [], []\n",
    "    for i in range(len(dataset)-look_back-1):\n",
    "        a = dataset[i:(i+look_back), 0]\n",
    "        dataX.append(a)\n",
    "        dataY.append(dataset[i + look_back, 0])\n",
    "    return numpy.array(dataX), numpy.array(dataY)"
   ]
  },
  {
   "cell_type": "code",
   "execution_count": 8,
   "id": "04c735f3",
   "metadata": {},
   "outputs": [],
   "source": [
    "look_back = 1\n",
    "trainX, trainY = create_dataset(train, look_back)\n",
    "testX, testY = create_dataset(test, look_back)"
   ]
  },
  {
   "cell_type": "code",
   "execution_count": 9,
   "id": "6fa7597d",
   "metadata": {},
   "outputs": [],
   "source": [
    "trainX = numpy.reshape(trainX, (trainX.shape[0], 1, trainX.shape[1]))\n",
    "testX = numpy.reshape(testX, (testX.shape[0], 1, testX.shape[1]))"
   ]
  },
  {
   "cell_type": "code",
   "execution_count": 10,
   "id": "6381d826",
   "metadata": {},
   "outputs": [
    {
     "data": {
      "text/plain": [
       "array([[[0.0000000e+00]],\n",
       "\n",
       "       [[3.2037497e-05]],\n",
       "\n",
       "       [[6.4074993e-05]],\n",
       "\n",
       "       ...,\n",
       "\n",
       "       [[6.7933357e-01]],\n",
       "\n",
       "       [[6.7936558e-01]],\n",
       "\n",
       "       [[6.7936558e-01]]], dtype=float32)"
      ]
     },
     "execution_count": 10,
     "metadata": {},
     "output_type": "execute_result"
    }
   ],
   "source": [
    "trainX"
   ]
  },
  {
   "cell_type": "code",
   "execution_count": 11,
   "id": "5944735b",
   "metadata": {},
   "outputs": [
    {
     "name": "stdout",
     "output_type": "stream",
     "text": [
      "Epoch 1/100\n",
      "19695/19695 - 13s - loss: 0.0029\n",
      "Epoch 2/100\n",
      "19695/19695 - 24s - loss: 2.4151e-05\n",
      "Epoch 3/100\n",
      "19695/19695 - 23s - loss: 1.9026e-05\n",
      "Epoch 4/100\n",
      "19695/19695 - 24s - loss: 1.4089e-05\n",
      "Epoch 5/100\n",
      "19695/19695 - 22s - loss: 9.9516e-06\n",
      "Epoch 6/100\n",
      "19695/19695 - 21s - loss: 8.3985e-06\n",
      "Epoch 7/100\n",
      "19695/19695 - 22s - loss: 8.2087e-06\n",
      "Epoch 8/100\n",
      "19695/19695 - 20s - loss: 7.8670e-06\n",
      "Epoch 9/100\n",
      "19695/19695 - 20s - loss: 7.8683e-06\n",
      "Epoch 10/100\n",
      "19695/19695 - 20s - loss: 8.1968e-06\n",
      "Epoch 11/100\n",
      "19695/19695 - 20s - loss: 8.0240e-06\n",
      "Epoch 12/100\n",
      "19695/19695 - 20s - loss: 7.5909e-06\n",
      "Epoch 13/100\n",
      "19695/19695 - 20s - loss: 7.9266e-06\n",
      "Epoch 14/100\n",
      "19695/19695 - 20s - loss: 7.7166e-06\n",
      "Epoch 15/100\n",
      "19695/19695 - 19s - loss: 7.8058e-06\n",
      "Epoch 16/100\n",
      "19695/19695 - 21s - loss: 7.9990e-06\n",
      "Epoch 17/100\n",
      "19695/19695 - 25s - loss: 7.6593e-06\n",
      "Epoch 18/100\n",
      "19695/19695 - 20s - loss: 8.0589e-06\n",
      "Epoch 19/100\n",
      "19695/19695 - 20s - loss: 7.4527e-06\n",
      "Epoch 20/100\n",
      "19695/19695 - 20s - loss: 7.8216e-06\n",
      "Epoch 21/100\n",
      "19695/19695 - 20s - loss: 8.0267e-06\n",
      "Epoch 22/100\n",
      "19695/19695 - 20s - loss: 7.5294e-06\n",
      "Epoch 23/100\n",
      "19695/19695 - 21s - loss: 7.9482e-06\n",
      "Epoch 24/100\n",
      "19695/19695 - 20s - loss: 7.8327e-06\n",
      "Epoch 25/100\n",
      "19695/19695 - 20s - loss: 7.9137e-06\n",
      "Epoch 26/100\n",
      "19695/19695 - 20s - loss: 7.8966e-06\n",
      "Epoch 27/100\n",
      "19695/19695 - 20s - loss: 7.9605e-06\n",
      "Epoch 28/100\n",
      "19695/19695 - 20s - loss: 7.9042e-06\n",
      "Epoch 29/100\n",
      "19695/19695 - 20s - loss: 7.7770e-06\n",
      "Epoch 30/100\n",
      "19695/19695 - 20s - loss: 7.7037e-06\n",
      "Epoch 31/100\n",
      "19695/19695 - 20s - loss: 7.6252e-06\n",
      "Epoch 32/100\n",
      "19695/19695 - 20s - loss: 7.5302e-06\n",
      "Epoch 33/100\n",
      "19695/19695 - 20s - loss: 7.7059e-06\n",
      "Epoch 34/100\n",
      "19695/19695 - 20s - loss: 7.5823e-06\n",
      "Epoch 35/100\n",
      "19695/19695 - 20s - loss: 7.6589e-06\n",
      "Epoch 36/100\n",
      "19695/19695 - 20s - loss: 7.6364e-06\n",
      "Epoch 37/100\n",
      "19695/19695 - 20s - loss: 7.7194e-06\n",
      "Epoch 38/100\n",
      "19695/19695 - 20s - loss: 7.7699e-06\n",
      "Epoch 39/100\n",
      "19695/19695 - 20s - loss: 7.5245e-06\n",
      "Epoch 40/100\n",
      "19695/19695 - 20s - loss: 7.7686e-06\n",
      "Epoch 41/100\n",
      "19695/19695 - 20s - loss: 7.5808e-06\n",
      "Epoch 42/100\n",
      "19695/19695 - 20s - loss: 7.4360e-06\n",
      "Epoch 43/100\n",
      "19695/19695 - 20s - loss: 7.5201e-06\n",
      "Epoch 44/100\n",
      "19695/19695 - 20s - loss: 7.4166e-06\n",
      "Epoch 45/100\n",
      "19695/19695 - 20s - loss: 7.8198e-06\n",
      "Epoch 46/100\n",
      "19695/19695 - 20s - loss: 7.8232e-06\n",
      "Epoch 47/100\n",
      "19695/19695 - 20s - loss: 7.4331e-06\n",
      "Epoch 48/100\n",
      "19695/19695 - 21s - loss: 7.7363e-06\n",
      "Epoch 49/100\n",
      "19695/19695 - 20s - loss: 7.9017e-06\n",
      "Epoch 50/100\n",
      "19695/19695 - 20s - loss: 7.5780e-06\n",
      "Epoch 51/100\n",
      "19695/19695 - 20s - loss: 7.6215e-06\n",
      "Epoch 52/100\n",
      "19695/19695 - 20s - loss: 7.5786e-06\n",
      "Epoch 53/100\n",
      "19695/19695 - 20s - loss: 7.7576e-06\n",
      "Epoch 54/100\n",
      "19695/19695 - 20s - loss: 7.9075e-06\n",
      "Epoch 55/100\n",
      "19695/19695 - 20s - loss: 7.5938e-06\n",
      "Epoch 56/100\n",
      "19695/19695 - 20s - loss: 7.5354e-06\n",
      "Epoch 57/100\n",
      "19695/19695 - 20s - loss: 7.8450e-06\n",
      "Epoch 58/100\n",
      "19695/19695 - 21s - loss: 7.7571e-06\n",
      "Epoch 59/100\n",
      "19695/19695 - 20s - loss: 7.5850e-06\n",
      "Epoch 60/100\n",
      "19695/19695 - 20s - loss: 7.5446e-06\n",
      "Epoch 61/100\n",
      "19695/19695 - 20s - loss: 7.5199e-06\n",
      "Epoch 62/100\n",
      "19695/19695 - 21s - loss: 7.7010e-06\n",
      "Epoch 63/100\n",
      "19695/19695 - 20s - loss: 7.4772e-06\n",
      "Epoch 64/100\n",
      "19695/19695 - 21s - loss: 7.2734e-06\n",
      "Epoch 65/100\n",
      "19695/19695 - 20s - loss: 7.6174e-06\n",
      "Epoch 66/100\n",
      "19695/19695 - 20s - loss: 7.3476e-06\n",
      "Epoch 67/100\n",
      "19695/19695 - 20s - loss: 7.8979e-06\n",
      "Epoch 68/100\n",
      "19695/19695 - 20s - loss: 7.3373e-06\n",
      "Epoch 69/100\n",
      "19695/19695 - 20s - loss: 7.4090e-06\n",
      "Epoch 70/100\n",
      "19695/19695 - 21s - loss: 7.8913e-06\n",
      "Epoch 71/100\n",
      "19695/19695 - 20s - loss: 7.4862e-06\n",
      "Epoch 72/100\n",
      "19695/19695 - 20s - loss: 7.4386e-06\n",
      "Epoch 73/100\n",
      "19695/19695 - 20s - loss: 7.2204e-06\n",
      "Epoch 74/100\n",
      "19695/19695 - 20s - loss: 7.5551e-06\n",
      "Epoch 75/100\n",
      "19695/19695 - 20s - loss: 7.7333e-06\n",
      "Epoch 76/100\n",
      "19695/19695 - 20s - loss: 7.4818e-06\n",
      "Epoch 77/100\n",
      "19695/19695 - 20s - loss: 7.3611e-06\n",
      "Epoch 78/100\n",
      "19695/19695 - 22s - loss: 7.5179e-06\n",
      "Epoch 79/100\n",
      "19695/19695 - 20s - loss: 7.4653e-06\n",
      "Epoch 80/100\n",
      "19695/19695 - 20s - loss: 7.3528e-06\n",
      "Epoch 81/100\n",
      "19695/19695 - 20s - loss: 7.4086e-06\n",
      "Epoch 82/100\n",
      "19695/19695 - 20s - loss: 7.4169e-06\n",
      "Epoch 83/100\n",
      "19695/19695 - 20s - loss: 7.4192e-06\n",
      "Epoch 84/100\n",
      "19695/19695 - 20s - loss: 7.3855e-06\n",
      "Epoch 85/100\n",
      "19695/19695 - 20s - loss: 7.4189e-06\n",
      "Epoch 86/100\n",
      "19695/19695 - 20s - loss: 7.3435e-06\n",
      "Epoch 87/100\n",
      "19695/19695 - 20s - loss: 7.2805e-06\n",
      "Epoch 88/100\n",
      "19695/19695 - 20s - loss: 7.4251e-06\n",
      "Epoch 89/100\n",
      "19695/19695 - 20s - loss: 7.7470e-06\n",
      "Epoch 90/100\n",
      "19695/19695 - 20s - loss: 7.2662e-06\n",
      "Epoch 91/100\n",
      "19695/19695 - 20s - loss: 7.9045e-06\n",
      "Epoch 92/100\n",
      "19695/19695 - 21s - loss: 7.5868e-06\n",
      "Epoch 93/100\n",
      "19695/19695 - 20s - loss: 7.3266e-06\n",
      "Epoch 94/100\n",
      "19695/19695 - 20s - loss: 7.5737e-06\n",
      "Epoch 95/100\n",
      "19695/19695 - 20s - loss: 7.5244e-06\n",
      "Epoch 96/100\n",
      "19695/19695 - 20s - loss: 7.5572e-06\n",
      "Epoch 97/100\n",
      "19695/19695 - 20s - loss: 7.2988e-06\n",
      "Epoch 98/100\n",
      "19695/19695 - 20s - loss: 7.3839e-06\n",
      "Epoch 99/100\n",
      "19695/19695 - 19s - loss: 7.6833e-06\n",
      "Epoch 100/100\n",
      "19695/19695 - 20s - loss: 7.3755e-06\n"
     ]
    },
    {
     "data": {
      "text/plain": [
       "<keras.callbacks.History at 0x2d384007100>"
      ]
     },
     "execution_count": 11,
     "metadata": {},
     "output_type": "execute_result"
    }
   ],
   "source": [
    "model = Sequential()\n",
    "model.add(LSTM(4, input_shape=(1, look_back)))\n",
    "model.add(Dense(1))\n",
    "model.compile(loss='mean_squared_error', optimizer='adam')\n",
    "model.fit(trainX, trainY, epochs=100, batch_size=1, verbose=2)"
   ]
  },
  {
   "cell_type": "code",
   "execution_count": 12,
   "id": "0f7ae814",
   "metadata": {},
   "outputs": [],
   "source": [
    "trainPredict = model.predict(trainX)\n",
    "testPredict = model.predict(testX)"
   ]
  },
  {
   "cell_type": "code",
   "execution_count": 13,
   "id": "04c33dd9",
   "metadata": {},
   "outputs": [],
   "source": [
    "trainPredict = scaler.inverse_transform(trainPredict)\n",
    "trainY = scaler.inverse_transform([trainY])\n",
    "testPredict = scaler.inverse_transform(testPredict)\n",
    "testY = scaler.inverse_transform([testY])"
   ]
  },
  {
   "cell_type": "code",
   "execution_count": 14,
   "id": "51fb32b7",
   "metadata": {},
   "outputs": [
    {
     "name": "stdout",
     "output_type": "stream",
     "text": [
      "Train Score: 0.30 RMSE\n",
      "Test Score: 0.50 RMSE\n"
     ]
    }
   ],
   "source": [
    "trainScore = math.sqrt(mean_squared_error(trainY[0], trainPredict[:,0]))\n",
    "print('Train Score: %.2f RMSE' % (trainScore))\n",
    "testScore = math.sqrt(mean_squared_error(testY[0], testPredict[:,0]))\n",
    "print('Test Score: %.2f RMSE' % (testScore))"
   ]
  },
  {
   "cell_type": "code",
   "execution_count": 15,
   "id": "5684eb8e",
   "metadata": {},
   "outputs": [],
   "source": [
    "trainPredictPlot = numpy.empty_like(dataset)\n",
    "trainPredictPlot[:, :] = numpy.nan\n",
    "trainPredictPlot[look_back:len(trainPredict)+look_back, :] = trainPredict"
   ]
  },
  {
   "cell_type": "code",
   "execution_count": 16,
   "id": "370d76c8",
   "metadata": {},
   "outputs": [],
   "source": [
    "testPredictPlot = numpy.empty_like(dataset)\n",
    "testPredictPlot[:, :] = numpy.nan\n",
    "testPredictPlot[len(trainPredict)+(look_back*2)+1:len(dataset)-1, :] = testPredict"
   ]
  },
  {
   "cell_type": "code",
   "execution_count": 17,
   "id": "e9304186",
   "metadata": {},
   "outputs": [
    {
     "data": {
      "text/plain": [
       "[<matplotlib.lines.Line2D at 0x2d38406aa00>]"
      ]
     },
     "execution_count": 17,
     "metadata": {},
     "output_type": "execute_result"
    },
    {
     "data": {
      "image/png": "[encoded data removed]",
      "text/plain": [
       "<Figure size 432x288 with 1 Axes>"
      ]
     },
     "metadata": {
      "needs_background": "light"
     },
     "output_type": "display_data"
    }
   ],
   "source": [
    "plt.plot(scaler.inverse_transform(dataset))\n",
    "# plt.plot(trainPredictPlot)\n",
    "# plt.plot(testPredictPlot)\n",
    "# plt.show()"
   ]
  },
  {
   "cell_type": "code",
   "execution_count": 21,
   "id": "781ee476",
   "metadata": {},
   "outputs": [
    {
     "data": {
      "image/png": "[encoded data removed]",
      "text/plain": [
       "<Figure size 1080x720 with 1 Axes>"
      ]
     },
     "metadata": {},
     "output_type": "display_data"
    }
   ],
   "source": [
    "import seaborn as sns\n",
    "fig3 = plt.figure(figsize=(15, 10))\n",
    "ax = fig3.add_subplot(1, 1, 1)\n",
    "sns.set(font_scale = 1.5)\n",
    "sns.set_style(\"whitegrid\", {'axes.grid' : False})\n",
    "\n",
    "plt.plot(scaler.inverse_transform(dataset),color = \"green\", linewidth = 2)\n",
    "plt.plot(trainPredictPlot, color = \"orange\", linestyle = \"--\")\n",
    "plt.plot(testPredictPlot, color = \"crimson\", linestyle = \"--\")\n",
    "# plt.title(\"Redis Model\")\n",
    "plt.legend([\"Original data\", \"Training data\", \"Test data\"])\n",
    "plt.ylabel(\"Disk Usage [MB]\")\n",
    "plt.xlabel(\"Time [s]\")\n",
    "\n",
    "plt.savefig(r\"C:\\Users\\anush\\reinfl\\reinfl_environment\\plots_prediction_models\\cassandra_oscil_lstm_model.png\", dpi = 300)\n",
    "plt.savefig(r\"C:\\Users\\anush\\reinfl\\reinfl_environment\\plots_prediction_models\\cassandra_oscil_lstm_model.pdf\", dpi = 300)\n",
    "plt.show()"
   ]
  },
  {
   "cell_type": "code",
   "execution_count": 19,
   "id": "b4821748",
   "metadata": {},
   "outputs": [
    {
     "data": {
      "text/plain": [
       "array([[2.3554478]], dtype=float32)"
      ]
     },
     "execution_count": 19,
     "metadata": {},
     "output_type": "execute_result"
    }
   ],
   "source": [
    "x = [[[16000]]]\n",
    "model.predict(x)"
   ]
  },
  {
   "cell_type": "code",
   "execution_count": 20,
   "id": "647a1e30",
   "metadata": {},
   "outputs": [
    {
     "name": "stdout",
     "output_type": "stream",
     "text": [
      "Saved model to disk\n"
     ]
    }
   ],
   "source": [
    "model.save(\"cassandra_oscil_model.h5\")\n",
    "print(\"Saved model to disk\")"
   ]
  },
  {
   "cell_type": "code",
   "execution_count": null,
   "id": "21797eb2",
   "metadata": {},
   "outputs": [],
   "source": []
  }
 ],
 "metadata": {
  "kernelspec": {
   "display_name": "Python 3 (ipykernel)",
   "language": "python",
   "name": "python3"
  },
  "language_info": {
   "codemirror_mode": {
    "name": "ipython",
    "version": 3
   },
   "file_extension": ".py",
   "mimetype": "text/x-python",
   "name": "python",
   "nbconvert_exporter": "python",
   "pygments_lexer": "ipython3",
   "version": "3.9.2"
  }
 },
 "nbformat": 4,
 "nbformat_minor": 5
}
